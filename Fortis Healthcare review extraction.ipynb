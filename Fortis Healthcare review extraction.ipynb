{
 "cells": [
  {
   "cell_type": "code",
   "execution_count": 25,
   "id": "dc540264",
   "metadata": {},
   "outputs": [],
   "source": [
    "from selenium.webdriver.common.by import By\n",
    "import selenium\n",
    "from selenium.webdriver.common.action_chains import ActionChains\n",
    "import time\n",
    "from selenium import webdriver\n",
    "from selenium.webdriver.support.select import Select\n",
    "from bs4 import BeautifulSoup\n",
    "import os\n",
    "import pandas as pd\n",
    "import csv"
   ]
  },
  {
   "cell_type": "code",
   "execution_count": 26,
   "id": "7d1107d8",
   "metadata": {},
   "outputs": [],
   "source": [
    "driver = webdriver.Chrome()"
   ]
  },
  {
   "cell_type": "code",
   "execution_count": 58,
   "id": "444f33f5",
   "metadata": {},
   "outputs": [],
   "source": [
    "driver.get('https://www.mouthshut.com/product-reviews/Fortis-Healthcare-Sector-62-Noida-reviews-925065668')"
   ]
  },
  {
   "cell_type": "code",
   "execution_count": 59,
   "id": "aa3a27c5",
   "metadata": {
    "scrolled": true
   },
   "outputs": [],
   "source": [
    "Record = []\n",
    "\n",
    "while True:\n",
    "    Sections = driver.find_elements(By.CSS_SELECTOR,'div.row.review-article')\n",
    "    for section in Sections:\n",
    "        try:\n",
    "            usr_name = section.find_element(By.CSS_SELECTOR,'div.user-ms-name').text\n",
    "            Location = section.find_element(By.CSS_SELECTOR,'div.usr-addr-text').text\n",
    "            Date_Time = section.find_element(By.XPATH,'//*[@id=\"rptreviews_ctl01_lblDateTime\"]').text\n",
    "            Rating_list = section.find_element(By.CSS_SELECTOR,'div.rating')\n",
    "            Rating = Rating_list.find_elements(By.CSS_SELECTOR,'i.icon-rating.rated-star')\n",
    "            comment = section.find_element(By.TAG_NAME,'p').text\n",
    "        except:\n",
    "            pass\n",
    "        temp = {\n",
    "            'User Name' : usr_name,\n",
    "            'Loaction' : Location,\n",
    "            'Date Time' : Date_Time,\n",
    "            'Rating' : len(Rating),\n",
    "            'Comment' : comment\n",
    "            }\n",
    "        Record.append(temp)\n",
    "    \n",
    "    \n",
    "    try:\n",
    "        \n",
    "        driver.find_element(By.XPATH,'//*[@id=\"litPages\"]/ul/li[2]/a').click()\n",
    "    \n",
    "    except:\n",
    "        try:\n",
    "            driver.find_element(By.XPATH,'//*[@id=\"litPages\"]/ul/li[3]/a').click()\n",
    "        except:\n",
    "            break\n",
    "        \n",
    "        \n",
    "pd.DataFrame(Record).to_csv(r'C:\\Users\\Lenovo\\Desktop\\Fortis_Healthcare_Review_Data.csv',index=False) "
   ]
  },
  {
   "cell_type": "code",
   "execution_count": null,
   "id": "34af5030",
   "metadata": {},
   "outputs": [],
   "source": []
  },
  {
   "cell_type": "code",
   "execution_count": 38,
   "id": "3b5e5865",
   "metadata": {},
   "outputs": [
    {
     "data": {
      "text/html": [
       "<div>\n",
       "<style scoped>\n",
       "    .dataframe tbody tr th:only-of-type {\n",
       "        vertical-align: middle;\n",
       "    }\n",
       "\n",
       "    .dataframe tbody tr th {\n",
       "        vertical-align: top;\n",
       "    }\n",
       "\n",
       "    .dataframe thead th {\n",
       "        text-align: right;\n",
       "    }\n",
       "</style>\n",
       "<table border=\"1\" class=\"dataframe\">\n",
       "  <thead>\n",
       "    <tr style=\"text-align: right;\">\n",
       "      <th></th>\n",
       "      <th>usr_name</th>\n",
       "      <th>Date</th>\n",
       "      <th>Rating</th>\n",
       "      <th>Comments</th>\n",
       "    </tr>\n",
       "  </thead>\n",
       "  <tbody>\n",
       "    <tr>\n",
       "      <th>0</th>\n",
       "      <td>Dr Rashmi Sharma</td>\n",
       "      <td>10 Oct 2023</td>\n",
       "      <td>1</td>\n",
       "      <td>For an appointment scheduled at 10:15 with Dr ...</td>\n",
       "    </tr>\n",
       "    <tr>\n",
       "      <th>1</th>\n",
       "      <td>Jyotsana</td>\n",
       "      <td>2 Nov 2023</td>\n",
       "      <td>1</td>\n",
       "      <td>Radiology department ,don`t trust any one in t...</td>\n",
       "    </tr>\n",
       "    <tr>\n",
       "      <th>2</th>\n",
       "      <td>ASHFAQ AHMED</td>\n",
       "      <td>10 Oct 2023</td>\n",
       "      <td>1</td>\n",
       "      <td>Terrible hospital. Communication poor. Sanitat...</td>\n",
       "    </tr>\n",
       "    <tr>\n",
       "      <th>3</th>\n",
       "      <td>Syed Farha</td>\n",
       "      <td>10 Oct 2023</td>\n",
       "      <td>1</td>\n",
       "      <td>Fortis Hospital is a terrible establishment. T...</td>\n",
       "    </tr>\n",
       "    <tr>\n",
       "      <th>4</th>\n",
       "      <td>Neeti Shori</td>\n",
       "      <td>10 Feb</td>\n",
       "      <td>1</td>\n",
       "      <td>They only care about money. Worst service at e...</td>\n",
       "    </tr>\n",
       "    <tr>\n",
       "      <th>...</th>\n",
       "      <td>...</td>\n",
       "      <td>...</td>\n",
       "      <td>...</td>\n",
       "      <td>...</td>\n",
       "    </tr>\n",
       "    <tr>\n",
       "      <th>111</th>\n",
       "      <td>Amita</td>\n",
       "      <td>4 Jan</td>\n",
       "      <td>4</td>\n",
       "      <td></td>\n",
       "    </tr>\n",
       "    <tr>\n",
       "      <th>112</th>\n",
       "      <td>Nitesh</td>\n",
       "      <td>25 Dec 2023</td>\n",
       "      <td>5</td>\n",
       "      <td></td>\n",
       "    </tr>\n",
       "    <tr>\n",
       "      <th>113</th>\n",
       "      <td>ANITA SHAH</td>\n",
       "      <td>23 Dec 2023</td>\n",
       "      <td>5</td>\n",
       "      <td></td>\n",
       "    </tr>\n",
       "    <tr>\n",
       "      <th>114</th>\n",
       "      <td>Firoj Khan</td>\n",
       "      <td>20 Dec 2023</td>\n",
       "      <td>1</td>\n",
       "      <td></td>\n",
       "    </tr>\n",
       "    <tr>\n",
       "      <th>115</th>\n",
       "      <td>Pradeep</td>\n",
       "      <td>19 Dec 2023</td>\n",
       "      <td>5</td>\n",
       "      <td></td>\n",
       "    </tr>\n",
       "  </tbody>\n",
       "</table>\n",
       "<p>116 rows × 4 columns</p>\n",
       "</div>"
      ],
      "text/plain": [
       "             usr_name         Date Rating  \\\n",
       "0    Dr Rashmi Sharma  10 Oct 2023      1   \n",
       "1            Jyotsana   2 Nov 2023      1   \n",
       "2        ASHFAQ AHMED  10 Oct 2023      1   \n",
       "3          Syed Farha  10 Oct 2023      1   \n",
       "4         Neeti Shori       10 Feb      1   \n",
       "..                ...          ...    ...   \n",
       "111             Amita        4 Jan      4   \n",
       "112            Nitesh  25 Dec 2023      5   \n",
       "113        ANITA SHAH  23 Dec 2023      5   \n",
       "114        Firoj Khan  20 Dec 2023      1   \n",
       "115           Pradeep  19 Dec 2023      5   \n",
       "\n",
       "                                              Comments  \n",
       "0    For an appointment scheduled at 10:15 with Dr ...  \n",
       "1    Radiology department ,don`t trust any one in t...  \n",
       "2    Terrible hospital. Communication poor. Sanitat...  \n",
       "3    Fortis Hospital is a terrible establishment. T...  \n",
       "4    They only care about money. Worst service at e...  \n",
       "..                                                 ...  \n",
       "111                                                     \n",
       "112                                                     \n",
       "113                                                     \n",
       "114                                                     \n",
       "115                                                     \n",
       "\n",
       "[116 rows x 4 columns]"
      ]
     },
     "execution_count": 38,
     "metadata": {},
     "output_type": "execute_result"
    }
   ],
   "source": [
    "pd.DataFrame(Record)"
   ]
  },
  {
   "cell_type": "code",
   "execution_count": null,
   "id": "0620fe49",
   "metadata": {},
   "outputs": [],
   "source": []
  },
  {
   "cell_type": "markdown",
   "id": "7230b1ec",
   "metadata": {},
   "source": [
    "# website 2: justdial.com"
   ]
  },
  {
   "cell_type": "code",
   "execution_count": 27,
   "id": "045a95b0",
   "metadata": {},
   "outputs": [],
   "source": [
    "driver.get('https://www.justdial.com/Delhi/Fortis-Hospital-Near-Kela-Godam,-in-Shalimar-Bagh/011PXX11-XX11-090408114842-K2Y4_BZDET/reviews')"
   ]
  },
  {
   "cell_type": "code",
   "execution_count": 32,
   "id": "3f65bf83",
   "metadata": {},
   "outputs": [],
   "source": [
    "for i in range(10):\n",
    "    driver.find_element(By.CSS_SELECTOR,'button.jsx-61cbf155467262ed.font18.fw500.color007').click()\n",
    "    time.sleep(5)\n",
    "\n",
    "Record = []\n",
    "    \n",
    "sections = driver.find_elements(By.CSS_SELECTOR,'div.jsx-61cbf155467262ed.review_box.animated.fadeIn')\n",
    "for section in sections:\n",
    "    usr_name = section.find_element(By.CSS_SELECTOR,'span.jsx-61cbf155467262ed.font16.fw500.color111.text_capitalize.pointer').text\n",
    "    Date = section.find_element(By.XPATH,'.//*[@class=\"jsx-61cbf155467262ed font14 color555\"]').text\n",
    "    Rating = section.find_element(By.CSS_SELECTOR,'svg.jsx-61cbf155467262ed.revw_star.hl_star').get_attribute('title')\n",
    "    Rating = Rating.split(\" \")[1]\n",
    "    Comments = section.find_element(By.CSS_SELECTOR,'div.jsx-61cbf155467262ed.mt-20.font14.fw400.color111.revw_star_text').text\n",
    "    \n",
    "    temp = {\n",
    "        'usr_name' : usr_name,\n",
    "        'Date' : Date,\n",
    "        'Rating' : Rating,\n",
    "        'Comments' : Comments\n",
    "    }\n",
    "    Record.append(temp)"
   ]
  },
  {
   "cell_type": "code",
   "execution_count": 33,
   "id": "fe401af0",
   "metadata": {},
   "outputs": [],
   "source": [
    "Dataset = pd.DataFrame(Record)"
   ]
  },
  {
   "cell_type": "code",
   "execution_count": 35,
   "id": "a93b756d",
   "metadata": {},
   "outputs": [
    {
     "data": {
      "text/html": [
       "<div>\n",
       "<style scoped>\n",
       "    .dataframe tbody tr th:only-of-type {\n",
       "        vertical-align: middle;\n",
       "    }\n",
       "\n",
       "    .dataframe tbody tr th {\n",
       "        vertical-align: top;\n",
       "    }\n",
       "\n",
       "    .dataframe thead th {\n",
       "        text-align: right;\n",
       "    }\n",
       "</style>\n",
       "<table border=\"1\" class=\"dataframe\">\n",
       "  <thead>\n",
       "    <tr style=\"text-align: right;\">\n",
       "      <th></th>\n",
       "      <th>usr_name</th>\n",
       "      <th>Date</th>\n",
       "      <th>Rating</th>\n",
       "      <th>Comments</th>\n",
       "    </tr>\n",
       "  </thead>\n",
       "  <tbody>\n",
       "    <tr>\n",
       "      <th>0</th>\n",
       "      <td>Dr Rashmi Sharma</td>\n",
       "      <td>10 Oct 2023</td>\n",
       "      <td>1</td>\n",
       "      <td>For an appointment scheduled at 10:15 with Dr ...</td>\n",
       "    </tr>\n",
       "    <tr>\n",
       "      <th>1</th>\n",
       "      <td>Jyotsana</td>\n",
       "      <td>2 Nov 2023</td>\n",
       "      <td>1</td>\n",
       "      <td>Radiology department ,don`t trust any one in t...</td>\n",
       "    </tr>\n",
       "    <tr>\n",
       "      <th>2</th>\n",
       "      <td>ASHFAQ AHMED</td>\n",
       "      <td>10 Oct 2023</td>\n",
       "      <td>1</td>\n",
       "      <td>Terrible hospital. Communication poor. Sanitat...</td>\n",
       "    </tr>\n",
       "    <tr>\n",
       "      <th>3</th>\n",
       "      <td>Syed Farha</td>\n",
       "      <td>10 Oct 2023</td>\n",
       "      <td>1</td>\n",
       "      <td>Fortis Hospital is a terrible establishment. T...</td>\n",
       "    </tr>\n",
       "    <tr>\n",
       "      <th>4</th>\n",
       "      <td>Neeti Shori</td>\n",
       "      <td>10 Feb</td>\n",
       "      <td>1</td>\n",
       "      <td>They only care about money. Worst service at e...</td>\n",
       "    </tr>\n",
       "  </tbody>\n",
       "</table>\n",
       "</div>"
      ],
      "text/plain": [
       "           usr_name         Date Rating  \\\n",
       "0  Dr Rashmi Sharma  10 Oct 2023      1   \n",
       "1          Jyotsana   2 Nov 2023      1   \n",
       "2      ASHFAQ AHMED  10 Oct 2023      1   \n",
       "3        Syed Farha  10 Oct 2023      1   \n",
       "4       Neeti Shori       10 Feb      1   \n",
       "\n",
       "                                            Comments  \n",
       "0  For an appointment scheduled at 10:15 with Dr ...  \n",
       "1  Radiology department ,don`t trust any one in t...  \n",
       "2  Terrible hospital. Communication poor. Sanitat...  \n",
       "3  Fortis Hospital is a terrible establishment. T...  \n",
       "4  They only care about money. Worst service at e...  "
      ]
     },
     "execution_count": 35,
     "metadata": {},
     "output_type": "execute_result"
    }
   ],
   "source": [
    "Dataset.head()"
   ]
  },
  {
   "cell_type": "code",
   "execution_count": 36,
   "id": "81a888ee",
   "metadata": {},
   "outputs": [
    {
     "data": {
      "text/plain": [
       "(116, 4)"
      ]
     },
     "execution_count": 36,
     "metadata": {},
     "output_type": "execute_result"
    }
   ],
   "source": [
    "Dataset.shape"
   ]
  },
  {
   "cell_type": "code",
   "execution_count": 37,
   "id": "674acb30",
   "metadata": {},
   "outputs": [],
   "source": [
    "Dataset.to_csv(r'C:\\Users\\Lenovo\\Desktop\\Fortis_Healthcare_Review_Data2.csv',index=False) "
   ]
  },
  {
   "cell_type": "code",
   "execution_count": null,
   "id": "0fa5d637",
   "metadata": {},
   "outputs": [],
   "source": []
  }
 ],
 "metadata": {
  "kernelspec": {
   "display_name": "Python 3 (ipykernel)",
   "language": "python",
   "name": "python3"
  },
  "language_info": {
   "codemirror_mode": {
    "name": "ipython",
    "version": 3
   },
   "file_extension": ".py",
   "mimetype": "text/x-python",
   "name": "python",
   "nbconvert_exporter": "python",
   "pygments_lexer": "ipython3",
   "version": "3.10.9"
  }
 },
 "nbformat": 4,
 "nbformat_minor": 5
}
